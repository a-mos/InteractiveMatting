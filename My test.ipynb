{
 "cells": [
  {
   "cell_type": "code",
   "execution_count": 1,
   "id": "977b8b20",
   "metadata": {},
   "outputs": [],
   "source": [
    "import os\n",
    "from os import path\n",
    "from argparse import ArgumentParser\n",
    "\n",
    "import numpy as np\n",
    "import torch\n",
    "import torchvision.transforms.functional as TF\n",
    "import cv2\n",
    "\n",
    "from model.network import deeplabv3plus_resnet50 as S2M\n",
    "from model.aggregate import aggregate_wbg_channel as aggregate\n",
    "from dataset.range_transform import im_normalization\n",
    "from util.tensor_util import pad_divide_by\n",
    "import torch\n",
    "import numpy as np\n",
    "import cv2\n",
    "import matplotlib.pyplot as plt\n",
    "import torch.nn as nn\n",
    "import torch.nn.functional as F\n",
    "\n",
    "import torch\n",
    "import numpy as np\n",
    "import cv2\n",
    "import matplotlib.pyplot as plt\n",
    "import torch.nn as nn\n",
    "import torch.nn.functional as F\n",
    "import seaborn as sns\n",
    "from torchsummary import summary\n",
    "from torch import nn\n",
    "from torch.nn import functional as F\n",
    "import math\n",
    "from model_base import Base\n",
    "from typing import List\n",
    "import cv2\n",
    "torch.backends.cudnn.benchmark = True"
   ]
  },
  {
   "cell_type": "code",
   "execution_count": 2,
   "id": "fe304df8",
   "metadata": {},
   "outputs": [
    {
     "data": {
      "text/plain": [
       "<torch.autograd.grad_mode.set_grad_enabled at 0x2922fca53d0>"
      ]
     },
     "execution_count": 2,
     "metadata": {},
     "output_type": "execute_result"
    }
   ],
   "source": [
    "net = Base(\"resnet50\", 7, 1)\n",
    "net.load_state_dict(torch.load('./saves/0.009609096754474689')['model_state_dict'])\n",
    "net = net.cuda().eval()\n",
    "torch.set_grad_enabled(False)"
   ]
  },
  {
   "cell_type": "code",
   "execution_count": 3,
   "id": "e7097a15",
   "metadata": {},
   "outputs": [],
   "source": [
    "def limit_longest_size(image, max_side_size):\n",
    "    if image.shape[0] > image.shape[1]:\n",
    "        target_h = min(image.shape[0], max_side_size)\n",
    "        target_w = int(image.shape[1] / image.shape[0] * target_h + 0.5)\n",
    "    else:\n",
    "        target_w = min(image.shape[1], max_side_size)\n",
    "        target_h = int(image.shape[0] / image.shape[1] * target_w + 0.5)\n",
    "    image = cv2.resize(image, (target_w, target_h), interpolation=cv2.INTER_LINEAR)\n",
    "    return image"
   ]
  },
  {
   "cell_type": "code",
   "execution_count": 5,
   "id": "be5542ad",
   "metadata": {},
   "outputs": [],
   "source": [
    "from clicker import Clicker\n",
    "import tqdm"
   ]
  },
  {
   "cell_type": "code",
   "execution_count": 6,
   "id": "6a0197c1",
   "metadata": {},
   "outputs": [],
   "source": [
    "alpha_copy = r'C:\\Users\\andry\\Desktop\\Combined_Dataset\\Test_set\\Composition-1k-testset\\alpha_copy'\n",
    "merged = r'C:\\Users\\andry\\Desktop\\Combined_Dataset\\Test_set\\Composition-1k-testset\\merged'\n",
    "#trimaps = r'C:\\Users\\andry\\Desktop\\Combined_Dataset\\Test_set\\Composition-1k-testset\\trimaps'"
   ]
  },
  {
   "cell_type": "code",
   "execution_count": 8,
   "id": "3f615aa7",
   "metadata": {},
   "outputs": [],
   "source": [
    "class InteractiveManager:\n",
    "    def __init__(self, model, image, mask):\n",
    "        self.model = model\n",
    "\n",
    "        self.image = im_normalization(TF.to_tensor(image)).unsqueeze(0).cuda()\n",
    "        self.mask = TF.to_tensor(mask).unsqueeze(0).cuda()\n",
    "\n",
    "        h, w = self.image.shape[-2:]\n",
    "        self.max_size = max(h,w)\n",
    "        self.image, self.pad = pad_divide_by(self.image, 16)\n",
    "        self.mask, _ = pad_divide_by(self.mask, 16)\n",
    "        self.last_mask = None\n",
    "\n",
    "        # Positive and negative scribbles\n",
    "        self.p_srb = np.zeros((h, w), dtype=np.uint8)\n",
    "        self.n_srb = np.zeros((h, w), dtype=np.uint8)\n",
    "        self.s_srb = np.zeros((h, w), dtype=np.uint8)\n",
    "\n",
    "        # Used for drawing\n",
    "        self.pressed = False\n",
    "        self.last_ex = self.last_ey = None\n",
    "        self.mode = 0\n",
    "        self.need_update = True\n",
    "\n",
    "    def mouse_down(self, ex, ey):\n",
    "        self.last_ex = ex\n",
    "        self.last_ey = ey\n",
    "        self.pressed = True\n",
    "        if self.mode == 0:\n",
    "            cv2.circle(self.p_srb, (ex, ey), radius=int(self.max_size * (5/512)), color=(1), thickness=-1)\n",
    "        elif self.mode == 1:\n",
    "            cv2.circle(self.n_srb, (ex, ey), radius=int(self.max_size * (5/512)), color=(1), thickness=-1)\n",
    "        elif self.mode == 2:\n",
    "            cv2.circle(self.s_srb, (ex, ey), radius=int(self.max_size * (5/512)), color=(1), thickness=-1)\n",
    "        self.need_update = True\n",
    "\n",
    "    def mouse_up(self):\n",
    "        self.pressed = False\n",
    "\n",
    "    first = True\n",
    "\n",
    "    def run_s2m(self):\n",
    "        # Convert scribbles to tensors\n",
    "        Rsp = torch.from_numpy(self.p_srb).unsqueeze(0).unsqueeze(0).float().cuda()\n",
    "        Rsn = torch.from_numpy(self.n_srb).unsqueeze(0).unsqueeze(0).float().cuda()\n",
    "        Rss = torch.from_numpy(self.s_srb).unsqueeze(0).unsqueeze(0).float().cuda()\n",
    "        Rs = torch.cat([Rsn, Rsp, Rss], 1)\n",
    "        Rs, _ = pad_divide_by(Rs, 16)\n",
    "\n",
    "        # Use the network to do stuff\n",
    "        inputs = torch.cat([self.image, self.mask, Rs], 1)\n",
    "        mask = net(inputs)\n",
    "        #inputs = torch.cat([self.image, mask, Rs], 1)\n",
    "        #mask = net(inputs)\n",
    "        #print(mask)\n",
    "        # We don't overwrite current mask until commit            \n",
    "        self.last_mask = mask\n",
    "        np_mask = (mask.detach().cpu().numpy()[0,0] * 255).astype(np.uint8)\n",
    "\n",
    "        if self.pad[2]+self.pad[3] > 0:\n",
    "            np_mask = np_mask[self.pad[2]:-self.pad[3],:]\n",
    "        if self.pad[0]+self.pad[1] > 0:\n",
    "            np_mask = np_mask[:,self.pad[0]:-self.pad[1]]\n",
    "\n",
    "        return np_mask\n",
    "\n",
    "    def commit(self):\n",
    "        self.p_srb.fill(0)\n",
    "        self.n_srb.fill(0)\n",
    "        self.s_srb.fill(0)\n",
    "        if self.last_mask is not None:\n",
    "            self.mask = self.last_mask\n",
    "\n",
    "    def clean_up(self):\n",
    "        self.p_srb.fill(0)\n",
    "        self.n_srb.fill(0)\n",
    "        self.s_srb.fill(0)\n",
    "        self.mask.zero_()\n",
    "        self.last_mask = None"
   ]
  },
  {
   "cell_type": "code",
   "execution_count": 9,
   "id": "2b64d69f",
   "metadata": {},
   "outputs": [],
   "source": [
    "def comp_image(image, mask, p_srb, n_srb, s_srb):\n",
    "    color_mask = np.zeros_like(image, dtype=np.uint8)\n",
    "    color_mask[:,:,2] = 1\n",
    "    if len(mask.shape) == 2:\n",
    "        mask = mask[:,:,None]\n",
    "    comp = (image*0.5 + color_mask*mask*0.5).astype(np.uint8)\n",
    "    comp[p_srb>0.5, :] = np.array([0, 255, 0], dtype=np.uint8)\n",
    "    comp[s_srb>0.5, :] = np.array([255, 0, 0], dtype=np.uint8)\n",
    "    comp[n_srb>0.5, :] = np.array([0, 0, 255], dtype=np.uint8)\n",
    "    return comp"
   ]
  },
  {
   "cell_type": "code",
   "execution_count": 10,
   "id": "3e523c8b",
   "metadata": {},
   "outputs": [
    {
     "name": "stderr",
     "output_type": "stream",
     "text": [
      "100%|████████████████████████████████████████████████████████████████████████████| 1000/1000 [1:14:15<00:00,  4.46s/it]\n"
     ]
    }
   ],
   "source": [
    "for name in tqdm.tqdm(os.listdir(merged)):\n",
    "    gt_alpha = cv2.imread(os.path.join(alpha_copy, name), cv2.IMREAD_GRAYSCALE)\n",
    "    gt_size = gt_alpha.shape\n",
    "    gt_alpha = limit_longest_size(gt_alpha, 1024)\n",
    "    \n",
    "    image = cv2.imread(os.path.join(merged, name), cv2.IMREAD_COLOR)\n",
    "    image = limit_longest_size(image, 1024)\n",
    "    prev_mask = np.zeros_like(gt_alpha)\n",
    "    \n",
    "    clicker_pos = Clicker(gt_alpha > 200)\n",
    "    clicker_neg = Clicker(gt_alpha == 0)\n",
    "    clicker_trans = Clicker((gt_alpha > 0) & (gt_alpha <= 200))\n",
    "    \n",
    "    interactive_manager = InteractiveManager(net, image, prev_mask)\n",
    "    total_clicks = 0\n",
    "    for click_indx in range(0, 25):\n",
    "        \n",
    "        prev_mask_pos = prev_mask > 128\n",
    "        prev_mask_neg = prev_mask == 0\n",
    "        prev_mask_trans = (prev_mask > 0) & (prev_mask <= 128)\n",
    "        \n",
    "        clicker_pos.make_next_click(prev_mask_pos)\n",
    "        clicker_neg.make_next_click(prev_mask_neg)\n",
    "        clicker_trans.make_next_click(prev_mask_trans)\n",
    "        \n",
    "        clicks_pos = clicker_pos.get_clicks()\n",
    "        last_click_pos = clicks_pos[-1]\n",
    "        if last_click_pos.is_positive:\n",
    "            interactive_manager.mode = 0\n",
    "            interactive_manager.mouse_down(last_click_pos.coords[1], last_click_pos.coords[0])\n",
    "#         else:\n",
    "#             interactive_manager.mode = 1\n",
    "#             interactive_manager.mouse_down(last_click_pos.coords[1], last_click_pos.coords[0])\n",
    "            total_clicks += 1\n",
    "    \n",
    "        clicks_neg = clicker_neg.get_clicks()\n",
    "        last_click_neg = clicks_neg[-1]\n",
    "        if last_click_neg.is_positive:\n",
    "            interactive_manager.mode = 1\n",
    "            interactive_manager.mouse_down(last_click_neg.coords[1], last_click_neg.coords[0])\n",
    "            total_clicks += 1\n",
    "#         else:\n",
    "#             interactive_manager.mode = 0\n",
    "#             interactive_manager.mouse_down(last_click_neg.coords[1], last_click_neg.coords[0])\n",
    "        \n",
    "        clicks_trans = clicker_trans.get_clicks()\n",
    "        last_click_trans = clicks_trans[-1]\n",
    "        if last_click_trans.is_positive:\n",
    "            interactive_manager.mode = 2\n",
    "            interactive_manager.mouse_down(last_click_trans.coords[1], last_click_trans.coords[0])\n",
    "            total_clicks += 1\n",
    "#         else:\n",
    "#             interactive_manager.mode = 1\n",
    "#             interactive_manager.mouse_down(last_click_trans.coords[1], last_click_trans.coords[0])\n",
    "            \n",
    "        prev_mask = interactive_manager.run_s2m()\n",
    "        \n",
    "        display = comp_image(image, prev_mask, interactive_manager.p_srb, interactive_manager.n_srb, interactive_manager.s_srb)\n",
    "        \n",
    "        os.makedirs(os.path.join('./compositions_vis', name), exist_ok=True)\n",
    "        cv2.imwrite(os.path.join('./compositions_vis', name, str(click_indx).zfill(3) + '_' + str(total_clicks) + '.jpg'), display) \n",
    "        \n",
    "        outs = cv2.resize(prev_mask, (gt_size[1], gt_size[0]), interpolation=cv2.INTER_LINEAR)\n",
    "        os.makedirs(os.path.join('./compositions_outputs', name), exist_ok=True)\n",
    "        #cv2.imwrite(os.path.join('./compositions_outputs', name, str(click_indx).zfill(3) + '_' + str(total_clicks) + '.png'), outs)\n",
    "        cv2.imwrite(os.path.join('./compositions_outputs', name, str(click_indx).zfill(3) + '.png'), outs) "
   ]
  },
  {
   "cell_type": "code",
   "execution_count": null,
   "id": "2925cdee",
   "metadata": {},
   "outputs": [],
   "source": [
    "!python evaluation.py"
   ]
  },
  {
   "cell_type": "code",
   "execution_count": 12,
   "id": "58337a7e",
   "metadata": {},
   "outputs": [],
   "source": [
    "mse = np.load('./mse.npy', allow_pickle=True)\n",
    "sad = np.load('./sad.npy', allow_pickle=True)"
   ]
  },
  {
   "cell_type": "code",
   "execution_count": 14,
   "id": "96375a04",
   "metadata": {},
   "outputs": [
    {
     "data": {
      "text/plain": [
       "array([0.13178134, 0.11502493, 0.10669745, 0.10219936, 0.1000069 ,\n",
       "       0.09999776, 0.09786114, 0.09521447, 0.09368605, 0.09171796,\n",
       "       0.08959664, 0.08824624, 0.08681262, 0.08550138, 0.08546933,\n",
       "       0.08418504, 0.08293655, 0.08189098, 0.08114948, 0.08060272,\n",
       "       0.08007057, 0.07914527, 0.07954368, 0.0788611 , 0.07784019])"
      ]
     },
     "execution_count": 14,
     "metadata": {},
     "output_type": "execute_result"
    }
   ],
   "source": [
    "mse.mean(axis=0)"
   ]
  },
  {
   "cell_type": "code",
   "execution_count": 15,
   "id": "665f33da",
   "metadata": {},
   "outputs": [
    {
     "data": {
      "text/plain": [
       "array([141.77066536, 132.74359617, 127.93406964, 124.65053016,\n",
       "       122.62525579, 121.57816392, 119.89349547, 118.2058213 ,\n",
       "       117.43279609, 115.80749006, 114.78433221, 114.19040369,\n",
       "       113.34714837, 112.41736353, 112.35845519, 111.5778861 ,\n",
       "       110.82585696, 110.10803436, 109.51485619, 109.28188768,\n",
       "       109.06458626, 108.47784344, 108.75707335, 108.34175614,\n",
       "       107.79571052])"
      ]
     },
     "execution_count": 15,
     "metadata": {},
     "output_type": "execute_result"
    }
   ],
   "source": [
    "sad.mean(axis=0)"
   ]
  },
  {
   "cell_type": "code",
   "execution_count": 16,
   "id": "38c0b4c8",
   "metadata": {},
   "outputs": [],
   "source": [
    "import seaborn as sns"
   ]
  },
  {
   "cell_type": "code",
   "execution_count": 17,
   "id": "28abe6c9",
   "metadata": {},
   "outputs": [
    {
     "data": {
      "text/plain": [
       "<AxesSubplot: >"
      ]
     },
     "execution_count": 17,
     "metadata": {},
     "output_type": "execute_result"
    },
    {
     "data": {
      "image/png": "[encoded data removed]",
      "text/plain": [
       "<Figure size 640x480 with 1 Axes>"
      ]
     },
     "metadata": {},
     "output_type": "display_data"
    }
   ],
   "source": [
    "sns.lineplot(sad.mean(axis=0))"
   ]
  }
 ],
 "metadata": {
  "kernelspec": {
   "display_name": "Python 3 (ipykernel)",
   "language": "python",
   "name": "python3"
  },
  "language_info": {
   "codemirror_mode": {
    "name": "ipython",
    "version": 3
   },
   "file_extension": ".py",
   "mimetype": "text/x-python",
   "name": "python",
   "nbconvert_exporter": "python",
   "pygments_lexer": "ipython3",
   "version": "3.9.13"
  }
 },
 "nbformat": 4,
 "nbformat_minor": 5
}
